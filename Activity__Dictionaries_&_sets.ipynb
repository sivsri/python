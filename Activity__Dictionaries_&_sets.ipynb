{
  "cells": [
    {
      "cell_type": "markdown",
      "metadata": {
        "id": "view-in-github",
        "colab_type": "text"
      },
      "source": [
        "<a href=\"https://colab.research.google.com/github/sivsri/python/blob/main/Activity__Dictionaries_%26_sets.ipynb\" target=\"_parent\"><img src=\"https://colab.research.google.com/assets/colab-badge.svg\" alt=\"Open In Colab\"/></a>"
      ]
    },
    {
      "cell_type": "markdown",
      "metadata": {
        "id": "-Lwnt5KN31Fq"
      },
      "source": [
        "<h1>Activity: Dictionaries and sets</h1>"
      ]
    },
    {
      "cell_type": "markdown",
      "metadata": {
        "id": "g3HOxOPG39KQ"
      },
      "source": [
        "## Introduction\n",
        "\n",
        "In this lab, you will practice creating, modifying, and working with data structures in Python. This will develop your knowledge of different kinds of data structures and the different operations that you can perform with them to answer questions about the data. This will help you prepare for projects you may encounter where you will need to use data structures to store and keep track of data.\n",
        "\n",
        "In your work as an analyst, you are continuing your research into air quality data collected by the U.S. Environmental Protection Agency (EPA). The air quality index (AQI) is a number that runs from 0 to 500. The higher the AQI value, the greater the level of air pollution and the greater the health concern. For example, an AQI value of 50 or below represents good air quality, while an AQI value over 300 represents hazardous air quality. Refer to this guide from [AirNow.gov](https://www.airnow.gov/aqi/aqi-basics/) for more information.\n",
        "\n",
        "In this activity, you will create, modify, and update dictionaries and sets. You will also be working with more data than in previous labs to more closely resemble situations encountered by working data professionals."
      ]
    },
    {
      "cell_type": "markdown",
      "metadata": {
        "id": "nWswZUkx388N"
      },
      "source": [
        "## Tips for completing this lab\n",
        "\n",
        "As you navigate this lab, keep the following tips in mind:\n",
        "\n",
        "- `### YOUR CODE HERE ###` indicates where you should write code. Be sure to replace this with your own code before running the code cell.\n",
        "- Feel free to open the hints for additional guidance as you work on each task.\n",
        "- To enter your answer to a question, double-click the markdown cell to edit. Be sure to replace the \"[Double-click to enter your responses here.]\" with your own answer.\n",
        "- You can save your work manually by clicking File and then Save in the menu bar at the top of the notebook.\n",
        "- You can download your work locally by clicking File and then Download and then specifying your preferred file format in the menu bar at the top of the notebook.\n",
        "\n"
      ]
    },
    {
      "cell_type": "markdown",
      "metadata": {
        "id": "JlXRqG234ys5"
      },
      "source": [
        "# Task 1: Create a dictionary to store information</h2></summary>\n",
        "\n",
        "Dictionaries are useful when you need a data structure to store information that can be referenced or looked up.\n",
        "\n",
        "In this task you'll begin with three `list` objects:\n",
        "\n",
        "* `state_list` - an ordered list of the state where each data point was recorded\n",
        "* `county_list` - an ordered list of the county where each data point was recorded\n",
        "* `aqi_list` - an ordered list of AQI records\n",
        "\n",
        "As a refresher, here is an example table of some of the information contained in these variables:\n",
        "\n",
        "| state_name | county_name | aqi |\n",
        "| --- | --- | --- |\n",
        "| Arizona | Maricopa | 9 |\n",
        "| California | Alameda | 11 |\n",
        "| California | Sacramento | 35 |\n",
        "| Kentucky | Jefferson | 6 |\n",
        "| Louisiana | East Baton Rouge | 5 |\n",
        "\n",
        "\n",
        "</details>"
      ]
    },
    {
      "cell_type": "markdown",
      "metadata": {
        "id": "Xnom2939uK6t"
      },
      "source": [
        "## 1a: Create a list of tuples\n",
        "\n",
        "Begin with an intermediary step to prepare the information to be put in a dictionary.\n",
        "\n",
        "* Convert `state_list`, `county_list`, and `aqi_list` to a list of tuples, where each tuple contains information for a single record: `(state, county, aqi)`.\n",
        "\n",
        "* Assign the result to a variable called `epa_tuples`.\n",
        "\n"
      ]
    },
    {
      "cell_type": "code",
      "execution_count": null,
      "metadata": {
        "id": "ifs5GtHdctXg"
      },
      "outputs": [],
      "source": [
        "# RUN THIS CELL TO IMPORT YOUR DATA\n",
        "import ada_c2_labs as lab\n",
        "state_list = lab.fetch_epa('state')\n",
        "county_list = lab.fetch_epa('county')\n",
        "aqi_list = lab.fetch_epa('aqi')"
      ]
    },
    {
      "cell_type": "code",
      "execution_count": null,
      "metadata": {
        "id": "UFDv3-UMSSQ1"
      },
      "outputs": [],
      "source": [
        "### YOUR CODE HERE ###\n",
        "epa_tuples = zip(state_list, county_list, aqi_list)"
      ]
    },
    {
      "cell_type": "markdown",
      "metadata": {
        "id": "tKtXEIRrgiY0"
      },
      "source": [
        "## 1b: Create a dictionary\n",
        "\n",
        "Now that you have a list of tuples containing AQI records, use it to create a dictionary that allows you to look up a state and get all the county-AQI pairs associated with that state.\n",
        "\n",
        "* Create a dictionary called `aqi_dict`:\n",
        "    * Use a loop to unpack information from each tuple in `epa_tuples`.\n",
        "    * Your dictionary's keys should be states.\n",
        "    * The value at each key should be a list of tuples, where each tuple is a county-AQI pair of a record from a given state.\n",
        "\n",
        "*Example:*\n",
        "```\n",
        "[IN]  aqi_dict['Vermont']\n",
        "[OUT] [('Chittenden', 18.0),\n",
        "       ('Chittenden', 20.0),\n",
        "       ('Chittenden', 3.0),\n",
        "       ('Chittenden', 49.0),\n",
        "       ('Rutland', 15.0),\n",
        "       ('Chittenden', 3.0),\n",
        "       ('Chittenden', 6.0),\n",
        "       ('Rutland', 3.0),\n",
        "       ('Rutland', 6.0),\n",
        "       ('Chittenden', 5.0),\n",
        "       ('Chittenden', 2.0)]\n",
        "```"
      ]
    },
    {
      "cell_type": "code",
      "execution_count": null,
      "metadata": {
        "id": "5wf42bG-d6wC",
        "outputId": "4ca86740-b086-4f30-ed30-7b766c6efdf3"
      },
      "outputs": [
        {
          "data": {
            "text/plain": [
              "[('Chittenden', 18.0),\n",
              " ('Chittenden', 20.0),\n",
              " ('Chittenden', 3.0),\n",
              " ('Chittenden', 49.0),\n",
              " ('Rutland', 15.0),\n",
              " ('Chittenden', 3.0),\n",
              " ('Chittenden', 6.0),\n",
              " ('Rutland', 3.0),\n",
              " ('Rutland', 6.0),\n",
              " ('Chittenden', 5.0),\n",
              " ('Chittenden', 2.0)]"
            ]
          },
          "execution_count": 57,
          "metadata": {},
          "output_type": "execute_result"
        }
      ],
      "source": [
        "### YOUR CODE HERE ###\n",
        "aqi_dict = {}\n",
        "for i, j, k in epa_tuples:\n",
        "    if i not in aqi_dict:\n",
        "        aqi_dict[i] = [(j, k)]\n",
        "    else:\n",
        "        aqi_dict[i].append((j, k))\n",
        "        \n",
        "api_dict['Vermont']"
      ]
    },
    {
      "cell_type": "markdown",
      "metadata": {
        "id": "igHmjfKI0eHK"
      },
      "source": [
        "# Task 2: Use the dictionary to retrieve information\n",
        "\n",
        "Now that you have a dictionary of county-AQI readings by state, you can use it to retrieve information and draw further insight from your data."
      ]
    },
    {
      "cell_type": "markdown",
      "metadata": {
        "id": "cGZhPv6g06W4"
      },
      "source": [
        "## 2a: Calculate how many readings were recorded in the state of Arizona\n",
        "\n",
        "Use your Python skills to calculate the number of readings that were recorded in the state of Arizona.\n",
        "\n",
        "*Expected output:*\n",
        "```\n",
        "[OUT] 72\n",
        "```"
      ]
    },
    {
      "cell_type": "code",
      "execution_count": null,
      "metadata": {
        "id": "E14DYfPFzk5K",
        "outputId": "8cd61d61-6f49-482b-9471-55140f11920b"
      },
      "outputs": [
        {
          "data": {
            "text/plain": [
              "72"
            ]
          },
          "execution_count": 58,
          "metadata": {},
          "output_type": "execute_result"
        }
      ],
      "source": [
        "### YOUR CODE HERE ###\n",
        "len(aqi_dict['Arizona'])"
      ]
    },
    {
      "cell_type": "markdown",
      "metadata": {
        "id": "vWGIlgb29Nzd"
      },
      "source": [
        "## 2b: Calculate the mean AQI from the state of California\n",
        "\n",
        "Use your Python skills to calculate the mean of the AQI readings that were recorded in the state of California. Note that there are many different approaches you can take. Be creative!\n",
        "\n",
        "*Expected output:*\n",
        "```\n",
        "[OUT] 9.412280701754385\n",
        "```"
      ]
    },
    {
      "cell_type": "code",
      "execution_count": null,
      "metadata": {
        "id": "Rb9y0usK0Ebn",
        "outputId": "80af6cf3-c300-42cc-9592-07895a42abc5"
      },
      "outputs": [
        {
          "data": {
            "text/plain": [
              "9.412280701754385"
            ]
          },
          "execution_count": 59,
          "metadata": {},
          "output_type": "execute_result"
        }
      ],
      "source": [
        "### YOUR CODE HERE ###\n",
        "li = [v for k, v in aqi_dict['California']]\n",
        "mean = sum(li) / len(li)\n",
        "mean"
      ]
    },
    {
      "cell_type": "markdown",
      "metadata": {
        "id": "QK6P3Az0J_H9"
      },
      "source": [
        "# Task 3: Define a `county_counter()` function\n",
        "\n",
        "You want to be able to quickly look up how many times a county is represented in a given state's readings. Even though you already have a list containing just county names, it's not safe to rely on the counts from that list alone because some states might have counties with the same name. Therefore, you'll need to use the state-specific information in `aqi_dict` to calculate this information."
      ]
    },
    {
      "cell_type": "markdown",
      "metadata": {
        "id": "vqEANCSJOUU0"
      },
      "source": [
        "## 3a: Write the function\n",
        "\n",
        "* Define a function called `county_counter` that takes one argument:\n",
        "    * `state` - a string of the name of a U.S. state\n",
        "\n",
        "* Return `county_dict` - a `dictionary` object whose keys are counties of the `state` given in the function's argument. For each county key, the corresponding value should be the count of the number of times that county is represented in the AQI data for that state.\n",
        "\n",
        "*Example:*\n",
        "```\n",
        "[IN]  county_counter('Florida')\n",
        "[OUT] {'Duval': 13,\n",
        "       'Hillsborough': 9,\n",
        "       'Broward': 18,\n",
        "       'Miami-Dade': 15,\n",
        "       'Orange': 6,\n",
        "       'Palm Beach': 5,\n",
        "       'Pinellas': 6,\n",
        "       'Sarasota': 9}\n",
        "```\n",
        "\n",
        "**NOTE:** Depending on the version of Python you're using, the order of the items returned by a dictionary can vary, so it's possible that your keys might not print in the same order as listed above. However, the key-value pairs themselves will be the same if you do the exercise successfully."
      ]
    },
    {
      "cell_type": "code",
      "execution_count": null,
      "metadata": {
        "id": "VoYZhy8PLMvN"
      },
      "outputs": [],
      "source": [
        "### YOUR CODE HERE ###\n",
        "def county_counter(state):\n",
        "    dict = {}\n",
        "    for k, v in aqi_dict[state]:\n",
        "        if k in dict:\n",
        "            dict[k] += 1\n",
        "        else:\n",
        "            dict[k] = 1\n",
        "            \n",
        "    return dict"
      ]
    },
    {
      "cell_type": "markdown",
      "metadata": {
        "id": "3lt2nty2QzHM"
      },
      "source": [
        "## 3b: Use the function to check Washington County, PA.\n",
        "\n",
        "Use the `county_counter()` function to calculate how many AQI readings were from `Washington` County, `Pennsylvania`.\n",
        "\n",
        "*Expected result:*\n",
        "```\n",
        "[OUT] 7\n",
        "```"
      ]
    },
    {
      "cell_type": "code",
      "execution_count": null,
      "metadata": {
        "colab": {
          "base_uri": "https://localhost:8080/"
        },
        "id": "hLdLi46fM0wy",
        "outputId": "36830c47-ce36-4a76-da10-db6ee54d6a71"
      },
      "outputs": [
        {
          "data": {
            "text/plain": [
              "7"
            ]
          },
          "execution_count": 69,
          "metadata": {},
          "output_type": "execute_result"
        }
      ],
      "source": [
        "### YOUR CODE HERE ###\n",
        "county_counter('Pennsylvania')['Washington']"
      ]
    },
    {
      "cell_type": "markdown",
      "metadata": {
        "id": "R5KpMuUtVk66"
      },
      "source": [
        "## 3c: Use the function to check the different counties in Indiana\n",
        "\n",
        "Use the `county_counter` function to obtain a list of all the different counties in the state of Indiana.\n",
        "\n",
        "*Expected result:*\n",
        "```\n",
        "[OUT] dict_keys(['Marion', 'St. Joseph', 'Vanderburgh', 'Allen', 'Vigo'\n",
        "      'Hendricks', 'Lake'])\n",
        "```\n",
        "\n",
        "**NOTE:** Depending on the version of Python you're using, the order of the items returned by a dictionary can vary, so it's possible that your keys might not print in this same order as listed above. However, the key-value pairs themselves will be the same if you do the exercise successfully."
      ]
    },
    {
      "cell_type": "code",
      "execution_count": null,
      "metadata": {
        "colab": {
          "base_uri": "https://localhost:8080/"
        },
        "id": "liiiVWXgV4_8",
        "outputId": "c73b05a3-7585-49e3-f55e-59c1b0ab6b61"
      },
      "outputs": [
        {
          "data": {
            "text/plain": [
              "dict_keys(['Marion', 'St. Joseph', 'Vanderburgh', 'Allen', 'Vigo', 'Hendricks', 'Lake'])"
            ]
          },
          "execution_count": 71,
          "metadata": {},
          "output_type": "execute_result"
        }
      ],
      "source": [
        "### YOUR CODE HERE ###\n",
        "county_counter('Indiana').keys()"
      ]
    },
    {
      "cell_type": "markdown",
      "metadata": {
        "id": "gqDduvi4Xe1U"
      },
      "source": [
        "# Task 4: Use sets to determine how many counties share a name\n",
        "\n",
        "In this task, you'll create a list of every county from every state, then use it to determine how many counties have the same name."
      ]
    },
    {
      "cell_type": "markdown",
      "metadata": {
        "id": "PY-64mhWeJiZ"
      },
      "source": [
        "## 4a: Construct a list of every county from every state\n",
        "\n",
        "1.  * Use `aqi_dict` and `county_counter()` to construct a list of every county from every state.\n",
        "    * Assign the result to a variable called `all_counties`.\n",
        "\n",
        "2. Find the length of `all_counties`.\n",
        "\n",
        "*Expected result:*\n",
        "```\n",
        "[OUT] 277\n",
        "```"
      ]
    },
    {
      "cell_type": "code",
      "execution_count": null,
      "metadata": {
        "colab": {
          "base_uri": "https://localhost:8080/"
        },
        "id": "2z7AZm6KaEj0",
        "outputId": "33104782-9476-4ce7-a18b-8765e387c673"
      },
      "outputs": [
        {
          "data": {
            "text/plain": [
              "277"
            ]
          },
          "execution_count": 72,
          "metadata": {},
          "output_type": "execute_result"
        }
      ],
      "source": [
        "### YOUR CODE HERE ###\n",
        "lst = []\n",
        "for state in aqi_dict.keys():\n",
        "    counties = list(county_counter(state).keys())\n",
        "    lst += counties\n",
        "    \n",
        "len(lst)"
      ]
    },
    {
      "cell_type": "markdown",
      "metadata": {
        "id": "gDepYdewiSIV"
      },
      "source": [
        "## 4b: Calculate how many counties share names\n",
        "\n",
        "Use `all_counties` and your knowledge of sets to determine how many counties share names.\n",
        "\n",
        "*Expected result:*\n",
        "```\n",
        "[OUT] 23\n",
        "```"
      ]
    },
    {
      "cell_type": "code",
      "execution_count": null,
      "metadata": {
        "colab": {
          "base_uri": "https://localhost:8080/"
        },
        "id": "ai7AFt_9irLm",
        "outputId": "78834ce6-acd3-4ded-f80f-d4fa4fc9ac6e"
      },
      "outputs": [
        {
          "data": {
            "text/plain": [
              "23"
            ]
          },
          "execution_count": 73,
          "metadata": {},
          "output_type": "execute_result"
        }
      ],
      "source": [
        "### YOUR CODE HERE ###\n",
        "len(lst) - len(set(lst))"
      ]
    },
    {
      "cell_type": "markdown",
      "metadata": {
        "id": "xhKq_IF9k2z5"
      },
      "source": [
        "Note that this doesn't tell you how many *different* county names were duplicated. It's possible that 24 states all had a county that shared the same one name. It's also possible that there were 23 different counties that each shared a name with a county in just one other state.\n",
        "\n",
        "Further analysis could uncover more details about this. Perhaps you can figure it out!"
      ]
    },
    {
      "cell_type": "markdown",
      "metadata": {
        "id": "K9nId3uu5Z47"
      },
      "source": [
        "## Conclusion\n",
        "\n",
        "**What are your key takeaways from this lab?**"
      ]
    },
    {
      "cell_type": "markdown",
      "metadata": {
        "id": "A2eoSHnIQG1I"
      },
      "source": [
        "[Double-click to record your response here.]\n",
        "\n",
        "dictionaries, key value pairs, loops"
      ]
    }
  ],
  "metadata": {
    "colab": {
      "provenance": [],
      "include_colab_link": true
    },
    "kernelspec": {
      "display_name": "Python 3",
      "language": "python",
      "name": "python3"
    },
    "language_info": {
      "codemirror_mode": {
        "name": "ipython",
        "version": 3
      },
      "file_extension": ".py",
      "mimetype": "text/x-python",
      "name": "python",
      "nbconvert_exporter": "python",
      "pygments_lexer": "ipython3",
      "version": "3.7.6"
    }
  },
  "nbformat": 4,
  "nbformat_minor": 0
}