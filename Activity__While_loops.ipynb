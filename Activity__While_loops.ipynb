{
  "cells": [
    {
      "cell_type": "markdown",
      "metadata": {
        "id": "view-in-github",
        "colab_type": "text"
      },
      "source": [
        "<a href=\"https://colab.research.google.com/github/sivsri/python/blob/main/Activity__While_loops.ipynb\" target=\"_parent\"><img src=\"https://colab.research.google.com/assets/colab-badge.svg\" alt=\"Open In Colab\"/></a>"
      ]
    },
    {
      "cell_type": "markdown",
      "metadata": {
        "id": "JwaiQtxjvkqT"
      },
      "source": [
        "<summary><h1>Activity: While loops</h1></summary>"
      ]
    },
    {
      "cell_type": "markdown",
      "metadata": {
        "id": "m6wrnw_xvtjg"
      },
      "source": [
        "## Introduction \n",
        "\n",
        "Data analysts often work with code that requires repetition. In Python, iterative statements can help automate repetitive processes to make them more efficient.\n",
        "\n",
        "In this lab, imagine you have transitioned fully into marketing for the movie theater. One of your tasks is analyzing customer purchases at the concession stand and automating messages to alert staff when a customer has earned a coupon.\n",
        "\n",
        "You will practice using while loops to iterate through data and perform repeated comparisons. "
      ]
    },
    {
      "cell_type": "markdown",
      "metadata": {
        "id": "A1sRocYbv0Ok"
      },
      "source": [
        "## Tips for completing this lab\n",
        "\n",
        "As you navigate this lab, keep the following tips in mind:\n",
        "\n",
        "- `### YOUR CODE HERE ###` indicates where you should write code. Be sure to replace this with your own code before running the code cell.\n",
        "- Feel free to open the hints for additional guidance as you work on each task.\n",
        "- To enter your answer to a question, double-click the markdown cell to edit. Be sure to replace the \"[Double-click to enter your responses here.]\" with your own answer.\n",
        "- You can save your work manually by clicking File and then Save in the menu bar at the top of the notebook.\n",
        "- You can download your work locally by clicking File and then Download and then specifying your preferred file format in the menu bar at the top of the notebook."
      ]
    },
    {
      "cell_type": "markdown",
      "metadata": {
        "id": "v6jkDWLzv9cE"
      },
      "source": [
        "## Task 1: Iterate with a `while` loop\n",
        "\n",
        "While continuing your work as an analyst for a movie theater, you've been asked to create a function that will require a `while` loop. To prepare for the job, first practice using `while` loops.\n",
        "\n",
        "In this warmup task:\n",
        "\n",
        "* Create a variable called `candy_purchased` that will act as a counter. Initialize it with a starting value of `0`.\n",
        "* Write a `while` loop that will continue iterating until `5` candies have been purchased.\n",
        "    * Each iteration of the loop must print `'Candy purchased: {number}'` and increment `candy_purchased` by one.\n",
        "\n",
        "*Expected output:*\n",
        "```\n",
        "Candy purchased: 0\n",
        "Candy purchased: 1\n",
        "Candy purchased: 2\n",
        "Candy purchased: 3\n",
        "Candy purchased: 4\n",
        "Candy purchased: 5\n",
        "```"
      ]
    },
    {
      "cell_type": "code",
      "execution_count": null,
      "metadata": {
        "id": "yRtGWWmiv-We",
        "outputId": "eb02f057-7b35-4431-8462-744287da5be1"
      },
      "outputs": [
        {
          "name": "stdout",
          "output_type": "stream",
          "text": [
            "candy_purchased: 0\n",
            "candy_purchased: 1\n",
            "candy_purchased: 2\n",
            "candy_purchased: 3\n",
            "candy_purchased: 4\n",
            "candy_purchased: 5\n"
          ]
        }
      ],
      "source": [
        "### YOUR CODE HERE ###\n",
        "candy_purchased = 0\n",
        "while candy_purchased <= 5:\n",
        "    print(f'candy_purchased: {candy_purchased}')\n",
        "    candy_purchased += 1"
      ]
    },
    {
      "cell_type": "markdown",
      "metadata": {
        "id": "DEGwRhgNwBYH"
      },
      "source": [
        "# Task 2: Iterate using `while` and `if`\n",
        "\n",
        "In the next warmup task, you'll use a `while` loop that has an `if` statement and some Boolean logic.\n",
        "\n",
        "* Write a `while` loop where `candy_purchased` begins at `0` and stops after 100 purchases have been made. Your code must:\n",
        "    * Increment `candy_purchased` by one with each iteration\n",
        "    * Print `'Candy purchased: {number}'` only when a multiple of 10 purchases have been made\n",
        "\n",
        "*Expected output:*\n",
        "```\n",
        "Candy purchased: 0\n",
        "Candy purchased: 10\n",
        "Candy purchased: 20\n",
        "Candy purchased: 30\n",
        "Candy purchased: 40\n",
        "Candy purchased: 50\n",
        "Candy purchased: 60\n",
        "Candy purchased: 70\n",
        "Candy purchased: 80\n",
        "Candy purchased: 90\n",
        "Candy purchased: 100\n",
        "```"
      ]
    },
    {
      "cell_type": "code",
      "execution_count": null,
      "metadata": {
        "id": "MRE-fZgIKb9T",
        "outputId": "ddaca4a6-e5e5-439f-b493-b1fbac281a2b"
      },
      "outputs": [
        {
          "name": "stdout",
          "output_type": "stream",
          "text": [
            "candy_purchased: 0\n",
            "candy_purchased: 10\n",
            "candy_purchased: 20\n",
            "candy_purchased: 30\n",
            "candy_purchased: 40\n",
            "candy_purchased: 50\n",
            "candy_purchased: 60\n",
            "candy_purchased: 70\n",
            "candy_purchased: 80\n",
            "candy_purchased: 90\n",
            "candy_purchased: 100\n"
          ]
        }
      ],
      "source": [
        "### YOUR CODE HERE ###\n",
        "candy_purchased = 0\n",
        "while candy_purchased <= 100:\n",
        "    if candy_purchased % 10 == 0:\n",
        "        print(f'candy_purchased: {candy_purchased}')\n",
        "    candy_purchased += 1"
      ]
    },
    {
      "cell_type": "markdown",
      "metadata": {
        "id": "ZmI550JXWWbG"
      },
      "source": [
        "# Task 3: Create a webpage timer function\n",
        "\n",
        "Now that you have some practice constructing `while` loops, it's time to take on the project you've been asked to complete for the theater.\n",
        "\n",
        "This task makes use of a function called `sleep()` from the `time` module. Whenever `sleep(n)` is executed, the program will pause for `n` seconds. Run the below cell as an illustrative example to help you understand."
      ]
    },
    {
      "cell_type": "code",
      "execution_count": null,
      "metadata": {
        "colab": {
          "base_uri": "https://localhost:8080/"
        },
        "id": "KAjdm2ZPXCBc",
        "outputId": "e4ab6322-a536-47af-8d2a-0bb1ddfb5c2c"
      },
      "outputs": [
        {
          "name": "stdout",
          "output_type": "stream",
          "text": [
            "3\n",
            "2\n",
            "1\n"
          ]
        }
      ],
      "source": [
        "from time import sleep\n",
        "\n",
        "n = 3\n",
        "while n > 0:\n",
        "    print(n)\n",
        "    sleep(1)    # Execution pauses for 1 second\n",
        "    n = n - 1   # Decrement n by 1"
      ]
    },
    {
      "cell_type": "markdown",
      "metadata": {
        "id": "4Ir0fa0cXbQN"
      },
      "source": [
        "For the purposes of this task, pretend that 1 second = 1 minute, so the above cell would represent a 3-minute countdown.\n",
        "\n",
        "The movie theater has implemented online reservations through their website. From the seat selection page, customers have a limited amount of time to make their selection. You must write a function that counts down and reminds the user that they have limited time to make a selection. When time expires, it must print a timeout message.\n",
        "\n",
        "*  Instantiate a variable called `mins` and assign it a starting value of `10`.\n",
        "*  Write a `while` loop that uses the `sleep()` function and decrements `mins` from `10` minutes. For each minute:\n",
        "\n",
        "    *  Print how many minutes remain as an integer. <br/>**BUT:**\n",
        "    *  If there are 5 minutes left, print `Place your reservation soon! 5 minutes remaining.` instead of the integer.\n",
        "    *  If there are 2 minutes left, print `Don't lose your seats! 2 minutes remaining.` instead of the integer.\n",
        "    *  When zero minutes remain, print `User timed out.` instead of the integer.\n",
        "\n",
        "*Expected output:*\n",
        "\n",
        "```\n",
        "10\n",
        "9\n",
        "8\n",
        "7\n",
        "6\n",
        "Place your reservation soon! 5 minutes remaining.\n",
        "4\n",
        "3\n",
        "Don't lose your seats! 2 minutes remaining.\n",
        "1\n",
        "User timed out.\n",
        "```\n",
        "\n",
        "**Note that there is more than one way to solve this problem.**"
      ]
    },
    {
      "cell_type": "code",
      "execution_count": null,
      "metadata": {
        "colab": {
          "base_uri": "https://localhost:8080/"
        },
        "id": "9ITkAwisuxlU",
        "outputId": "1a4b572b-cf74-4247-c252-a8aaddb288c4"
      },
      "outputs": [
        {
          "name": "stdout",
          "output_type": "stream",
          "text": [
            "10\n",
            "9\n",
            "8\n",
            "7\n",
            "6\n",
            "Place your reservation soon! 5 minutes remaining.\n",
            "4\n",
            "3\n",
            "Don't lose your seats! 2 minutes remaining.\n",
            "1\n",
            "User timed out.\n"
          ]
        }
      ],
      "source": [
        "from time import sleep\n",
        "mins = 10\n",
        "### YOUR CODE HERE ###\n",
        "while mins >= 0:\n",
        "    if mins == 5:\n",
        "        print('Place your reservation soon! 5 minutes remaining.')\n",
        "    elif mins == 2:\n",
        "        print(\"Don't lose your seats! 2 minutes remaining.\")\n",
        "    elif mins == 0:\n",
        "        print(\"User timed out.\")\n",
        "    else:\n",
        "        print(mins)\n",
        "    sleep(1)\n",
        "    mins -= 1"
      ]
    },
    {
      "cell_type": "markdown",
      "metadata": {
        "id": "6QUnKJF9wv32"
      },
      "source": [
        "## Conclusion\n",
        "\n",
        "**What are your key takeaways from this lab?**"
      ]
    },
    {
      "cell_type": "markdown",
      "metadata": {
        "id": "bEQJSXfiw0xX"
      },
      "source": [
        "[Double-click here to record your responses.]\n",
        "\n",
        "while loop"
      ]
    }
  ],
  "metadata": {
    "colab": {
      "provenance": [],
      "include_colab_link": true
    },
    "kernelspec": {
      "display_name": "Python 3",
      "language": "python",
      "name": "python3"
    },
    "language_info": {
      "codemirror_mode": {
        "name": "ipython",
        "version": 3
      },
      "file_extension": ".py",
      "mimetype": "text/x-python",
      "name": "python",
      "nbconvert_exporter": "python",
      "pygments_lexer": "ipython3",
      "version": "3.7.6"
    }
  },
  "nbformat": 4,
  "nbformat_minor": 0
}