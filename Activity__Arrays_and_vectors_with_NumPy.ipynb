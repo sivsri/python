{
  "cells": [
    {
      "cell_type": "markdown",
      "metadata": {
        "id": "view-in-github",
        "colab_type": "text"
      },
      "source": [
        "<a href=\"https://colab.research.google.com/github/sivsri/python/blob/main/Activity__Arrays_and_vectors_with_NumPy.ipynb\" target=\"_parent\"><img src=\"https://colab.research.google.com/assets/colab-badge.svg\" alt=\"Open In Colab\"/></a>"
      ]
    },
    {
      "cell_type": "markdown",
      "metadata": {
        "id": "1BwuLdPviXFX"
      },
      "source": [
        "<h1>Activity: Vectors and arrays with NumPy</h1>"
      ]
    },
    {
      "cell_type": "markdown",
      "metadata": {
        "id": "ggu2qS99icFG"
      },
      "source": [
        "## Introduction \n",
        "\n",
        "Your work as a data professional for the U.S. Environmental Protection Agency (EPA) requires you to analyze air quality index data collected from the United States and Mexico.\n",
        "\n",
        "The air quality index (AQI) is a number that runs from 0 to 500. The higher the AQI value, the greater the level of air pollution and the greater the health concern. For example, an AQI value of 50 or below represents good air quality, while an AQI value over 300 represents hazardous air quality. Refer to this guide from [AirNow.gov](https://www.airnow.gov/aqi/aqi-basics/) for more information.\n",
        "\n",
        "In this lab, you will work with NumPy arrays to perform calculations and evaluations with data they contain. Specifically, you'll be working with just the data from the numerical AQI readings.\n"
      ]
    },
    {
      "cell_type": "markdown",
      "metadata": {
        "id": "Jvbr-ML7ijoX"
      },
      "source": [
        "## Tips for completing this lab\n",
        "\n",
        "As you navigate this lab, keep the following tips in mind:\n",
        "\n",
        "- `### YOUR CODE HERE ###` indicates where you should write code. Be sure to replace this with your own code before running the code cell.\n",
        "- Feel free to open the hints for additional guidance as you work on each task.\n",
        "- To enter your answer to a question, double-click the markdown cell to edit. Be sure to replace the \"[Double-click to enter your responses here.]\" with your own answer.\n",
        "- You can save your work manually by clicking File and then Save in the menu bar at the top of the notebook.\n",
        "- You can download your work locally by clicking File and then Download and then specifying your preferred file format in the menu bar at the top of the notebook.\n"
      ]
    },
    {
      "cell_type": "markdown",
      "metadata": {
        "id": "W6dEFretirNd"
      },
      "source": [
        "# Task 1: Create an array using NumPy\n",
        "\n",
        "The EPA has compiled some AQI data where each AQI report has the state name, county name, and AQI. Refer to the table below as an example.\n",
        "\n",
        "| state_name | county_name | aqi |\n",
        "| ------- | ------- | ------ |\n",
        "| Arizona | Maricopa | 18 |\n",
        "| California | Alameda | 11 |\n",
        "| California | Butte | 6 |\n",
        "| Texas | El Paso | 40 |\n",
        "| Florida | Duval | 15 |\n",
        "\n",
        "<br/>\n"
      ]
    },
    {
      "cell_type": "markdown",
      "metadata": {
        "id": "r-AI4kdk9fwg"
      },
      "source": [
        "## 1a: Import NumPy\n",
        "\n",
        "Import NumPy using its standard alias."
      ]
    },
    {
      "cell_type": "code",
      "execution_count": null,
      "metadata": {
        "id": "iprLwtIliTxu",
        "outputId": "98722e64-05ba-4baf-c18c-b59254a7e5ba"
      },
      "outputs": [
        {
          "data": {
            "text/plain": [
              "array([['Arizona', 'Maricopa', '18'],\n",
              "       ['California', 'Alameda', '11'],\n",
              "       ['California', 'Butte', '6'],\n",
              "       ['Texas', 'El Paso', '40'],\n",
              "       ['Florida', 'Duval', '15']], dtype='<U10')"
            ]
          },
          "execution_count": 1,
          "metadata": {},
          "output_type": "execute_result"
        }
      ],
      "source": [
        "### YOUR CODE HERE ###\n",
        "import numpy as np\n",
        "li = [['Arizona', 'Maricopa', 18], \n",
        "      ['California', 'Alameda', 11], \n",
        "      ['California', 'Butte', 6], \n",
        "      ['Texas', 'El Paso', 40], \n",
        "      ['Florida', 'Duval', 15]]\n",
        "np.array(li)"
      ]
    },
    {
      "cell_type": "markdown",
      "metadata": {
        "id": "2PYX8U_C9nFw"
      },
      "source": [
        "## 1b: Create an array of AQI data\n",
        "\n",
        "You are given an ordered `list` of AQI readings called `aqi_list`.\n",
        "\n",
        "1. Use a NumPy function to convert the list to an `ndarray`. Assign the result to a variable called `aqi_array`.\n",
        "2. Print the length of `aqi_array`.\n",
        "3. Print the first five elements of `aqi_array`.\n",
        "\n",
        "*Expected result:*\n",
        "\n",
        "```\n",
        "[OUT] 1725\n",
        "      [18.  9. 20. 11.  6.]\n",
        "```"
      ]
    },
    {
      "cell_type": "code",
      "execution_count": null,
      "metadata": {
        "id": "vODHtgS094Md"
      },
      "outputs": [],
      "source": [
        "### RUN THIS CELL TO IMPORT YOUR DATA\n",
        "import ada_c2_labs as lab\n",
        "aqi_list = lab.fetch_epa('aqi')"
      ]
    },
    {
      "cell_type": "code",
      "execution_count": null,
      "metadata": {
        "id": "FHIOmXBpxixx",
        "outputId": "4698d232-2b84-4fb2-9333-87b663d37d25"
      },
      "outputs": [
        {
          "name": "stdout",
          "output_type": "stream",
          "text": [
            "1725\n"
          ]
        },
        {
          "data": {
            "text/plain": [
              "array([18.,  9., 20., 11.,  6.])"
            ]
          },
          "execution_count": 5,
          "metadata": {},
          "output_type": "execute_result"
        }
      ],
      "source": [
        "# 1. ### YOUR CODE HERE ###\n",
        "aqi_array = np.array(aqi_list)\n",
        "\n",
        "# 2. ### YOUR CODE HERE ###\n",
        "print(aqi_array.size)\n",
        "\n",
        "# 3. ### YOUR CODE HERE ###\n",
        "aqi_array[0:5]"
      ]
    },
    {
      "cell_type": "markdown",
      "metadata": {
        "id": "ugLjdpOGBHZh"
      },
      "source": [
        "# Task 2: Calculate summary statistics\n",
        "\n",
        "Now that you have the AQI data stored in an array, use NumPy functions to calculate some summary statistics about it.\n",
        "\n",
        "* Use built-in NumPy functions to print the following values from `aqi_array`:\n",
        "    1. Maximum value\n",
        "    2. Minimum value\n",
        "    3. Median value\n",
        "    4. Standard deviation\n",
        "\n",
        "*Expected result:*\n",
        "\n",
        "```\n",
        "[OUT] Max = 93.0\n",
        "      Min = 0.0\n",
        "      Median = 8.0\n",
        "      Std = 10.382982538847708\n",
        "```"
      ]
    },
    {
      "cell_type": "code",
      "execution_count": null,
      "metadata": {
        "id": "B5Iqr7BwBf1s",
        "outputId": "48b3af34-ddb1-4032-f6cd-d5adffad42e7"
      },
      "outputs": [
        {
          "name": "stdout",
          "output_type": "stream",
          "text": [
            "Max = 93.0\n",
            "Min = 0.0\n",
            "Median = 8.0\n",
            "Std = 10.382982538847708\n"
          ]
        }
      ],
      "source": [
        "### YOUR CODE HERE ###\n",
        "print(f'Max = {aqi_array.max()}')\n",
        "print(f'Min = {aqi_array.min()}')\n",
        "print(f'Median = {np.median(aqi_array)}')\n",
        "print(f'Std = {aqi_array.std()}')"
      ]
    },
    {
      "cell_type": "markdown",
      "metadata": {
        "id": "nEn8XcTNaAqr"
      },
      "source": [
        "# Task 3: Calculate percentage of readings with cleanest AQI\n",
        "\n",
        "You are interested in how many air quality readings in the data represent the cleanest air, which we'll consider **readings of 5 or less.**\n",
        "\n",
        "To perform this calculation, you'll make use of one of the properties of arrays that make them so powerful: their element-wise operability. For example, when you add an integer to an `ndarray` using the `+` operator, it performs an element-wise addition on the whole array.\n",
        "\n",
        "```\n",
        "[IN]  my_array = np.array([1, 2, 3])\n",
        "      my_array = my_array + 10\n",
        "      print(my_array)\n",
        "\n",
        "[OUT] [11, 12, 13]\n",
        "```\n",
        "\n",
        "**The same concept applies to comparison operators used on an `ndarray`.** With this in mind:\n",
        "\n",
        "* Calculate the percentage of AQI readings that are considered cleanest:\n",
        "    1. Use a comparison statement to get an array of Boolean values that is the same length as `aqi_array`. Assign the result to variable called `boolean_aqi`.\n",
        "    2. Calculate the number of `True` values in the `boolean_aqi` and divide this number by the total number of values in the array. Assign the result to a variable named `percent_under_6` and print it.\n",
        "\n",
        "*Expected result:*\n",
        "\n",
        "```\n",
        "[OUT] 0.3194202898550725\n",
        "```\n",
        "\n",
        "\n"
      ]
    },
    {
      "cell_type": "code",
      "execution_count": null,
      "metadata": {
        "id": "bIT_DvzW_Pft",
        "outputId": "fda59069-02c4-4537-95b3-9a502809a3d2"
      },
      "outputs": [
        {
          "name": "stdout",
          "output_type": "stream",
          "text": [
            "0.3194202898550725\n"
          ]
        }
      ],
      "source": [
        "# 1. ### YOUR CODE HERE ###\n",
        "boolean_aqi = aqi_array <= 5\n",
        "\n",
        "# 2. ### YOUR CODE HERE ###\n",
        "percent_under_6 = boolean_aqi.sum() / boolean_aqi.size\n",
        "print(percent_under_6)"
      ]
    },
    {
      "cell_type": "markdown",
      "metadata": {
        "id": "XmR1gE_3i4m8"
      },
      "source": [
        "## Conclusion\n",
        "\n",
        "**What are your key takeaways from this lab?**"
      ]
    },
    {
      "cell_type": "markdown",
      "metadata": {
        "id": "7Ahc6avOE-7w"
      },
      "source": [
        "[Double-click to enter your responses here.]\n",
        "\n",
        "creating numpy array,\n",
        "\n",
        "using methods available in numpy to get statistical values of data,\n",
        "\n",
        "numpy operations"
      ]
    }
  ],
  "metadata": {
    "colab": {
      "provenance": [],
      "include_colab_link": true
    },
    "kernelspec": {
      "display_name": "Python 3",
      "language": "python",
      "name": "python3"
    },
    "language_info": {
      "codemirror_mode": {
        "name": "ipython",
        "version": 3
      },
      "file_extension": ".py",
      "mimetype": "text/x-python",
      "name": "python",
      "nbconvert_exporter": "python",
      "pygments_lexer": "ipython3",
      "version": "3.7.6"
    }
  },
  "nbformat": 4,
  "nbformat_minor": 0
}