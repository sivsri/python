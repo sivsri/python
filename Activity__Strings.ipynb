{
  "cells": [
    {
      "cell_type": "markdown",
      "metadata": {
        "id": "view-in-github",
        "colab_type": "text"
      },
      "source": [
        "<a href=\"https://colab.research.google.com/github/sivsri/python/blob/main/Activity__Strings.ipynb\" target=\"_parent\"><img src=\"https://colab.research.google.com/assets/colab-badge.svg\" alt=\"Open In Colab\"/></a>"
      ]
    },
    {
      "cell_type": "markdown",
      "metadata": {
        "id": "zdhKGagO-08G"
      },
      "source": [
        "<summary><h1>Activity: Work with strings in Python</h1></summary>"
      ]
    },
    {
      "cell_type": "markdown",
      "metadata": {
        "id": "2Aj2wyhv-4uz"
      },
      "source": [
        "## Introduction \n",
        "\n",
        "Data professionals work with a lot of string data. For example, while analyzing the results of a marketing campaign, you may need to review item descriptions or customer names, which is stored as string data. Becoming comfortable working with strings in Python is essential for the work of a data professional.\n",
        "\n",
        "In this lab, you'll practice coding in Python and working with strings. You'll work with a store ID, ZIP Code, and a custom URL for the store you're gathering data on.\n"
      ]
    },
    {
      "cell_type": "markdown",
      "metadata": {
        "id": "yWchTc4RbLdH"
      },
      "source": [
        "## Tips for completing this lab\n",
        "\n",
        "As you navigate this lab, keep the following tips in mind:\n",
        "\n",
        "- `### YOUR CODE HERE ###` indicates where you should write code. Be sure to replace this with your own code before running the code cell.\n",
        "- Feel free to open the hints for additional guidance as you work on each task.\n",
        "- To enter your answer to a question, double-click the markdown cell to edit. Be sure to replace the `[Double-click to record your response.]` with your own answers.\n",
        "- You can save your work manually by clicking File and then Save in the menu bar at the top of the notebook.\n",
        "- You can download your work locally by clicking File and then Download and then specifying your preferred file format in the menu bar at the top of the notebook.\n"
      ]
    },
    {
      "cell_type": "markdown",
      "metadata": {
        "id": "i0uX4za0BkN7"
      },
      "source": [
        "## Task 1: Check and change data types\n",
        "\n",
        "Now that you have experience in marketing, you've moved on to market research. Your new task is collecting store data for future analysis. In this task, you're given a four-digit numeric store ID stored in a variable called `store_id`.\n",
        "\n",
        "1.  Convert `store_id` to a string and store the result in the same variable.\n",
        "2.  Confirm the type of `store_id` after the conversion.\n"
      ]
    },
    {
      "cell_type": "code",
      "execution_count": null,
      "metadata": {
        "colab": {
          "base_uri": "https://localhost:8080/"
        },
        "id": "mE4L9dLfAgH5",
        "outputId": "48f48e81-1749-4b6c-a31f-e862318f08f2"
      },
      "outputs": [
        {
          "data": {
            "text/plain": [
              "str"
            ]
          },
          "execution_count": 1,
          "metadata": {},
          "output_type": "execute_result"
        }
      ],
      "source": [
        "store_id = 1101\n",
        "\n",
        "# 1. ### YOUR CODE HERE ###\n",
        "store_id = str(store_id)\n",
        "\n",
        "# 2. ### YOUR CODE HERE ###\n",
        "type(store_id)"
      ]
    },
    {
      "cell_type": "markdown",
      "metadata": {
        "id": "hYssqAyqAgH7"
      },
      "source": [
        "## Task 2: String concatenation\n",
        "\n",
        "As you continue gathering data, you realize that the `store_id` variable is actually the ZIP Code where the store is located, but the leading `0` has been cut off.\n",
        "\n",
        "*  Define a function called `zip_checker` that accepts the following argument:\n",
        "    *  `zipcode` - a string with either four or five characters\n",
        "\n",
        "*  Return:\n",
        "    *  If `zipcode` has five characters, return `zipcode` as a string.\n",
        "    *  If `zipcode` has four characters and the first character is NOT `'0'`, the function must add a zero to the beginning of the string and return the five-character `zipcode` as a string.\n",
        "    *  If `zipcode` has four characters and the first character is `'0'`, the function must print `'Invalid ZIP Code.'`, because ZIP Codes do not begin with 00 in the mainland U.S.\n",
        "\n",
        "*Example:*\n",
        "\n",
        "```\n",
        " [IN] zip_checker('02806')\n",
        "[OUT] '02806'\n",
        "\n",
        " [IN] zip_checker('2806')\n",
        "[OUT] '02806'\n",
        "\n",
        " [IN] zip_checker('0280')\n",
        "[OUT] 'Invalid ZIP Code.'\n",
        "```\n",
        "\n",
        "**Note that there is more than one way to solve this problem.**"
      ]
    },
    {
      "cell_type": "code",
      "execution_count": null,
      "metadata": {
        "id": "LpOUeHDaAgH8"
      },
      "outputs": [],
      "source": [
        "### YOUR CODE HERE ###\n",
        "def zip_checker(zipcode):\n",
        "    zipcode = str(zipcode)\n",
        "    if len(zipcode) == 5:\n",
        "        return zipcode\n",
        "    elif len(zipcode) == 4 and zipcode[0] != '0':\n",
        "        return '0' + zipcode\n",
        "    else:\n",
        "        return 'Invalid ZIP Code.'"
      ]
    },
    {
      "cell_type": "markdown",
      "metadata": {
        "id": "tNPNLZLDkG_Y"
      },
      "source": [
        "### Test your function\n",
        "Test your function against the following cases by running the cell below."
      ]
    },
    {
      "cell_type": "code",
      "execution_count": null,
      "metadata": {
        "colab": {
          "base_uri": "https://localhost:8080/"
        },
        "id": "Hw6Zo-yLkGoh",
        "outputId": "bfe0b331-0c79-4028-afae-2b4088b5239b"
      },
      "outputs": [
        {
          "data": {
            "text/plain": [
              "'Invalid ZIP Code.'"
            ]
          },
          "execution_count": 5,
          "metadata": {},
          "output_type": "execute_result"
        }
      ],
      "source": [
        "print(zip_checker('02806'))     # Should return 02806.\n",
        "print(zip_checker('2806'))      # Should return 02806.\n",
        "zip_checker('0280')             # Should print 'Invalid ZIP Code.'"
      ]
    },
    {
      "cell_type": "markdown",
      "metadata": {
        "id": "IsRgCMTIAgH9"
      },
      "source": [
        "## Task 3: Extract the store ID\n",
        "\n",
        "Now imagine that you've been provided `url`, which is a URL containing the store's actual ID at the end of it.\n",
        "\n",
        "1.  Extract the seven-character store ID from the end of `url` and assign the result to a variable called `id`.\n",
        "2.  Print the contents of `id`."
      ]
    },
    {
      "cell_type": "code",
      "execution_count": null,
      "metadata": {
        "colab": {
          "base_uri": "https://localhost:8080/"
        },
        "id": "nbWgk78BAgH-",
        "outputId": "80af19c8-c7e3-4cca-a09d-046616d89f38"
      },
      "outputs": [
        {
          "name": "stdout",
          "output_type": "stream",
          "text": [
            "r626c36\n"
          ]
        }
      ],
      "source": [
        "url = \"https://exampleURL1.com/r626c36\"\n",
        "\n",
        "# 1. ### YOUR CODE HERE ###\n",
        "id = url[-7:]\n",
        "\n",
        "# 2. ### YOUR CODE HERE ###\n",
        "print(id)"
      ]
    },
    {
      "cell_type": "markdown",
      "metadata": {
        "id": "8YuKkGqfAgH-"
      },
      "source": [
        "## Task 4: String extraction function\n",
        "\n",
        "You have many URLs that contain store IDs, but many of them are invalid&mdash;either because they use an invalid protocol (the beginning of the URL) or because the store ID is not seven characters long.\n",
        "\n",
        "*  The correct URL protocol is `https:` Anything else is invalid.\n",
        "*  A valid store ID must have exactly seven characters.\n",
        "\n",
        "\n",
        "Define a function called `url_checker` that accepts the following argument:\n",
        "*  `url` - a URL string\n",
        "\n",
        "Return:\n",
        "*  If both the protocol and the store ID are invalid:\n",
        "    * print two lines: <br/>\n",
        "    `'{protocol} is an invalid protocol.'` <br/>\n",
        "    `'{store_id} is an invalid store ID.'` <br/>\n",
        "*  If only the protocol is invalid:\n",
        "    * print: <br/>\n",
        "    `'{protocol} is an invalid protocol.'` <br/>\n",
        "*  If only the store ID is invalid:\n",
        "    * print: <br/>\n",
        "        `'{store_id} is an invalid store ID.'` <br/>\n",
        "*  If both the protocol and the store ID are valid, return the store ID.\n",
        "\n",
        "In the above cases, `{protocol}` is a string of the protocol and `{store_id}` is a string of the store ID.\n",
        "\n",
        "*Example:*\n",
        "\n",
        "```\n",
        " [IN] url_checker('http://exampleURL1.com/r626c3')\n",
        "[OUT] 'http: is an invalid protocol.'\n",
        "      'r626c3 is an invalid store ID.'\n",
        "\n",
        " [IN] url_checker('ftps://exampleURL1.com/r626c36')\n",
        "[OUT] 'ftps: is an invalid protocol.'\n",
        "\n",
        " [IN] url_checker('https://exampleURL1.com/r626c3')\n",
        "[OUT] 'r626c3 is an invalid store ID.'\n",
        "\n",
        " [IN] url_checker('https://exampleURL1.com/r626c36')\n",
        "[OUT] 'r626c36'\n",
        "```\n",
        "\n",
        "**Note that there is more than one way to solve this problem.**"
      ]
    },
    {
      "cell_type": "code",
      "execution_count": null,
      "metadata": {
        "id": "iUHHc1ueigi4"
      },
      "outputs": [],
      "source": [
        "# Sample valid URL for reference while writing your function:\n",
        "url = 'https://exampleURL1.com/r626c36'\n",
        "\n",
        "### YOUR CODE HERE ###\n",
        "def url_checker(url):\n",
        "    url = url.split('/')\n",
        "    id = url[-1]\n",
        "    url_ = url[0]\n",
        "    \n",
        "    if len(id) != 7 and url_ != 'https:':\n",
        "        print(f'{url_} is an invalid protocol')        \n",
        "        print(f'{id} is an invalid store ID')\n",
        "    elif len(id) == 7 and url_ != 'https:':\n",
        "        print(f'{url_} is an invalid protocol')\n",
        "    elif len(id) != 7 and url_ == 'https:':\n",
        "        print(f'{id} is an invalid store ID')\n",
        "    else:\n",
        "        return id"
      ]
    },
    {
      "cell_type": "markdown",
      "metadata": {
        "id": "qBDtbcLj9n9d"
      },
      "source": [
        "### Test your function\n",
        "Test your function against the following cases by running the cell below."
      ]
    },
    {
      "cell_type": "code",
      "execution_count": null,
      "metadata": {
        "colab": {
          "base_uri": "https://localhost:8080/",
          "height": 105
        },
        "id": "vle6y9719n9d",
        "outputId": "bf167846-292e-4e64-fc7c-82e3ca5616ff"
      },
      "outputs": [
        {
          "name": "stdout",
          "output_type": "stream",
          "text": [
            "http: is an invalid protocol\n",
            "r626c3 is an invalid store ID\n",
            "\n",
            "ftps: is an invalid protocol\n",
            "\n",
            "r626c3 is an invalid store ID\n",
            "\n"
          ]
        },
        {
          "data": {
            "text/plain": [
              "'r626c36'"
            ]
          },
          "execution_count": 11,
          "metadata": {},
          "output_type": "execute_result"
        }
      ],
      "source": [
        "# RUN THIS CELL TO TEST YOUR FUCTION            # Should return:\n",
        "url_checker('http://exampleURL1.com/r626c3')    # 'http: is an invalid protocol.'\n",
        "print()                                         # 'r626c3 is an invalid store ID.'\n",
        "\n",
        "url_checker('ftps://exampleURL1.com/r626c36')   # 'ftps: is an invalid protocol.\n",
        "print()\n",
        "url_checker('https://exampleURL1.com/r626c3')   # 'r626c3 is an invalid store ID.'\n",
        "print()\n",
        "url_checker('https://exampleURL1.com/r626c36')  # 'r626c36'"
      ]
    },
    {
      "cell_type": "markdown",
      "metadata": {
        "id": "2YkzeLnEAgIA"
      },
      "source": [
        "## Conclusions\n",
        "**What are your key takeaways from this lab?**\n",
        "\n"
      ]
    },
    {
      "cell_type": "markdown",
      "metadata": {
        "id": "16cy_uBYrvdP"
      },
      "source": [
        "[Double-click to record your response.]\n",
        "\n",
        "str concat, slice & extract"
      ]
    }
  ],
  "metadata": {
    "colab": {
      "provenance": [],
      "include_colab_link": true
    },
    "kernelspec": {
      "display_name": "Python 3",
      "language": "python",
      "name": "python3"
    },
    "language_info": {
      "codemirror_mode": {
        "name": "ipython",
        "version": 3
      },
      "file_extension": ".py",
      "mimetype": "text/x-python",
      "name": "python",
      "nbconvert_exporter": "python",
      "pygments_lexer": "ipython3",
      "version": "3.7.6"
    }
  },
  "nbformat": 4,
  "nbformat_minor": 0
}