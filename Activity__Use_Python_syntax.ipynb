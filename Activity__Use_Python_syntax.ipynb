{
  "cells": [
    {
      "cell_type": "markdown",
      "metadata": {
        "id": "view-in-github",
        "colab_type": "text"
      },
      "source": [
        "<a href=\"https://colab.research.google.com/github/sivsri/python/blob/main/Activity__Use_Python_syntax.ipynb\" target=\"_parent\"><img src=\"https://colab.research.google.com/assets/colab-badge.svg\" alt=\"Open In Colab\"/></a>"
      ]
    },
    {
      "cell_type": "markdown",
      "metadata": {
        "id": "Qg5NiuIpplUe"
      },
      "source": [
        "<h1>Activity: Use Python Syntax</h1>"
      ]
    },
    {
      "cell_type": "markdown",
      "metadata": {
        "id": "DNYNVjDQpmmd"
      },
      "source": [
        "## Introduction\n",
        "\n",
        "In this lab, you will practice Python syntax by creating variables, checking the data types of variables, creating precise variable names, and completing data conversions.\n",
        "\n",
        "For this activity, imagine you're a data professional analyzing the users that log in to purchase tickets at a movie theater. You'll save the theater's unique identification code to a variable, study the number of tickets sold, and the data types you'll be working with.\n",
        "\n",
        "Throughout this lab, you will practice assigning variables, viewing the values saved to the variables, and checking their data types.\n"
      ]
    },
    {
      "cell_type": "markdown",
      "metadata": {
        "id": "Of4eYDaLppn7"
      },
      "source": [
        "## Tips for completing this lab\n",
        "\n",
        "As you navigate this lab, keep the following tips in mind:\n",
        "\n",
        "- `### YOUR CODE HERE ###` indicates where you should write code. Be sure to replace this with your own code before running the code cell.\n",
        "- Feel free to open the hints for additional guidance as you work on each task.\n",
        "- To enter your answer to a question, double-click the markdown cell to edit. Be sure to replace the \"[Double-click to enter your responses here.]\" with your own answer.\n",
        "- You can save your work manually by clicking File and then Save in the menu bar at the top of the notebook.\n",
        "- You can download your work locally by clicking File and then Download and then specifying your preferred file format in the menu bar at the top of the notebook."
      ]
    },
    {
      "cell_type": "markdown",
      "metadata": {
        "id": "tB2oxyU-prdI"
      },
      "source": [
        "## Task 1: Assign the theater ID to a variable\n",
        "\n",
        "In your work as an analyst, imagine you are considering sales at a specific theater and you want to save the theater's unique identification, which is `\"b79cn10k\"`, to a variable. By doing this, you'll be able to access the ID easily if you need it later. In the following code cell:\n",
        "\n",
        "1. Assign the theater's unique identification to a variable named `theater_id`.\n",
        "\n",
        "2. Display the contents of the `theater_id` variable.\n",
        "\n",
        "Be sure to replace each `### YOUR CODE HERE ###` with your own code before you run the following cell."
      ]
    },
    {
      "cell_type": "code",
      "execution_count": null,
      "metadata": {
        "colab": {
          "base_uri": "https://localhost:8080/"
        },
        "id": "qpkTCRNZp2rE",
        "outputId": "91684ee0-a1aa-4ca7-a8c4-4223f204dca6"
      },
      "outputs": [
        {
          "name": "stdout",
          "output_type": "stream",
          "text": [
            "b79cn10k\n"
          ]
        }
      ],
      "source": [
        "# 1.\n",
        "### YOUR CODE HERE ###\n",
        "theater_id = 'b79cn10k'\n",
        "\n",
        "# 2.\n",
        "### YOUR CODE HERE ###\n",
        "print(theater_id)"
      ]
    },
    {
      "cell_type": "markdown",
      "metadata": {
        "id": "vE6xNJ-yqBNN"
      },
      "source": [
        "## Task 2: Create a ticket type variable\n",
        "\n",
        "As you continue your work, you're provided a list of the different types of tickets sold by the theater: `\"Senior\"`, `\"Adult\"`, and `\"Youth\"`. In this task, focus on the `\"Adult\"` ticket type.\n",
        "\n",
        "1.  Create a variable called `ticket_type` and assign it a value of `\"Adult\"`.\n",
        "2.  Display the contents of the `ticket_type` variable."
      ]
    },
    {
      "cell_type": "code",
      "execution_count": null,
      "metadata": {
        "colab": {
          "base_uri": "https://localhost:8080/"
        },
        "id": "cocf9l4wqDMn",
        "outputId": "f3800616-83cd-4952-93b7-d3e3e819cda4"
      },
      "outputs": [
        {
          "name": "stdout",
          "output_type": "stream",
          "text": [
            "Adult\n"
          ]
        }
      ],
      "source": [
        "# 1.\n",
        "### YOUR CODE HERE ###\n",
        "ticket_type = \"Adult\"\n",
        "\n",
        "# 2.\n",
        "### YOUR CODE HERE ###\n",
        "print(ticket_type)"
      ]
    },
    {
      "cell_type": "markdown",
      "metadata": {
        "id": "tfKns4NhqUZy"
      },
      "source": [
        "## Task 3: Save the number of adult tickets to a variable and check the data type\n",
        "\n",
        "Now that you've recorded the types of tickets being sold, it's time to record the number of adult tickets sold so far.\n",
        "\n",
        "1. Create a variable called `adult_tickets_sold` that represents the current number of \"adult\" tickets sold and assign it a value of `59.0`.\n",
        "\n",
        "2. Check the data type of `adult_tickets_sold`."
      ]
    },
    {
      "cell_type": "code",
      "execution_count": null,
      "metadata": {
        "colab": {
          "base_uri": "https://localhost:8080/"
        },
        "id": "coPEMTAdqEyO",
        "outputId": "f426a84a-75c7-4509-8da7-ed3c182256bc"
      },
      "outputs": [
        {
          "data": {
            "text/plain": [
              "float"
            ]
          },
          "execution_count": 3,
          "metadata": {},
          "output_type": "execute_result"
        }
      ],
      "source": [
        "# 1.\n",
        "### YOUR CODE HERE ###\n",
        "adult_tickets_sold = 59.0\n",
        "\n",
        "# 2.\n",
        "### YOUR CODE HERE ###\n",
        "type(adult_tickets_sold)"
      ]
    },
    {
      "cell_type": "markdown",
      "metadata": {
        "id": "pJNhDk51rNjH"
      },
      "source": [
        "## Task 4: Convert data types and print the result\n",
        "\n",
        "The data you work with as a data professional often needs to be converted to different data types. In this case, the number of tickets sold should be recorded as integers and not floats.\n",
        "\n",
        "1. Convert the data saved in the `adult_tickets_sold` variable from a **float** to an **integer**. Reassign the result back to the `adult_tickets_sold` variable.\n",
        "\n",
        "2. Check the data type of `adult_tickets_sold`."
      ]
    },
    {
      "cell_type": "code",
      "execution_count": null,
      "metadata": {
        "colab": {
          "base_uri": "https://localhost:8080/"
        },
        "id": "_9W-UpPfrPwR",
        "outputId": "aa1cab63-2402-47e3-b083-72d4d55148f0"
      },
      "outputs": [
        {
          "data": {
            "text/plain": [
              "int"
            ]
          },
          "execution_count": 4,
          "metadata": {},
          "output_type": "execute_result"
        }
      ],
      "source": [
        "# 1.\n",
        "### YOUR CODE HERE ###\n",
        "adult_tickets_sold = int(adult_tickets_sold)\n",
        "\n",
        "# 2.\n",
        "### YOUR CODE HERE ###\n",
        "type(adult_tickets_sold)"
      ]
    },
    {
      "cell_type": "markdown",
      "metadata": {
        "id": "QJrdMB8qrWhi"
      },
      "source": [
        "## Conclusion\n",
        "\n",
        "**What are your key takeaways from this lab?**"
      ]
    },
    {
      "cell_type": "markdown",
      "metadata": {
        "id": "26pwtx0hrbNf"
      },
      "source": [
        "- There are many useful operators in Python that help you work with variables.\n",
        "  - The `=` assignment operator allows you to assign or reassign a specific value to a variable.\n",
        "- The `print()` function in Python allows you to display information.\n",
        "  - It can take in a value directly or a variable that stores a value.\n",
        "- The `type()` function in Python helps you to determine the data type of an object.\n",
        "  - If you pass in a variable to `type()`, it will output the data type of the value stored in the variable.\n",
        "- Python is able to convert some data types from one to another.\n",
        "    - Using the `int()` function on a variable that stores data as a **float** will convert the data from a floating point number to an integer.\n",
        "\n"
      ]
    }
  ],
  "metadata": {
    "colab": {
      "provenance": [],
      "include_colab_link": true
    },
    "kernelspec": {
      "display_name": "Python 3",
      "language": "python",
      "name": "python3"
    },
    "language_info": {
      "codemirror_mode": {
        "name": "ipython",
        "version": 3
      },
      "file_extension": ".py",
      "mimetype": "text/x-python",
      "name": "python",
      "nbconvert_exporter": "python",
      "pygments_lexer": "ipython3",
      "version": "3.7.6"
    }
  },
  "nbformat": 4,
  "nbformat_minor": 0
}